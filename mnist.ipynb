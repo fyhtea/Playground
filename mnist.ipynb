{
 "cells": [
  {
   "cell_type": "code",
   "execution_count": 1,
   "metadata": {
    "collapsed": true
   },
   "outputs": [],
   "source": [
    "import torch\n",
    "import torch.nn as nn\n",
    "import torch.nn.functional as F\n",
    "import torch.optim as optim\n",
    "from torch.autograd import Variable\n",
    "import torchvision\n",
    "import torch.utils.data as utils_Data"
   ]
  },
  {
   "cell_type": "code",
   "execution_count": 2,
   "metadata": {},
   "outputs": [],
   "source": [
    "class Net(nn.Module):\n",
    "\n",
    "    def __init__(self):\n",
    "        super(Net, self).__init__()\n",
    "        # 1 input image channel, 6 output channels, 5x5 square convolution\n",
    "        # kernel\n",
    "        self.conv1 = nn.Conv2d(1, 32, 5)\n",
    "        self.conv2 = nn.Conv2d(32, 64, 5)\n",
    "        # an affine operation: y = Wx + b\n",
    "        self.fc1 = nn.Linear(64 * 4 * 4, 512)\n",
    "        self.fc2 = nn.Linear(512, 10)\n",
    "\n",
    "    def forward(self, x):\n",
    "        # Max pooling over a (2, 2) window\n",
    "        x = F.max_pool2d(F.relu(self.conv1(x)), (2, 2))\n",
    "        # If the size is a square you can only specify a single number\n",
    "        x = F.max_pool2d(F.relu(self.conv2(x)), 2)\n",
    "        x = x.view(-1, self.num_flat_features(x))\n",
    "        x = F.relu(self.fc1(x))\n",
    "        x = self.fc2(x)\n",
    "        return F.log_softmax(x)\n",
    "\n",
    "    def num_flat_features(self, x):\n",
    "        size = x.size()[1:]  # all dimensions except the batch dimension\n",
    "        num_features = 1\n",
    "        for s in size:\n",
    "            num_features *= s\n",
    "        return num_features"
   ]
  },
  {
   "cell_type": "code",
   "execution_count": 3,
   "metadata": {},
   "outputs": [],
   "source": [
    "# Load MNIST data\n",
    "from torchvision import datasets, transforms \n",
    "\n",
    "transforms = transforms.Compose([\n",
    "                       transforms.ToTensor(),\n",
    "                       transforms.Normalize((0.1307,), (0.3081,))])\n",
    "\n",
    "trainset = datasets.MNIST('./data', train=True, download=True,\n",
    "                          transform=transforms)\n",
    "\n",
    "train_loader = utils_Data.DataLoader(trainset, batch_size=100, shuffle=True)\n",
    "\n",
    "testset = datasets.MNIST('./data', train=False, download=True,\n",
    "                         transform=transforms)\n",
    "\n",
    "test_loader = utils_Data.DataLoader(testset, batch_size=100, shuffle=True)"
   ]
  },
  {
   "cell_type": "code",
   "execution_count": 7,
   "metadata": {},
   "outputs": [],
   "source": [
    "model = Net()\n",
    "\n",
    "use_cuda = False\n",
    "if(use_cuda):\n",
    "    model.cuda()\n",
    "\n",
    "optimizer = optim.SGD(model.parameters(), lr=0.01, momentum=0.5)\n",
    "\n",
    "\n",
    "def train(epoch):\n",
    "    model.train()\n",
    "    for batch_idx,(data, label) in enumerate(train_loader):\n",
    "        if (use_cuda):\n",
    "            data, lable = data.cuda(), label.cuda()\n",
    "        data, label = Variable(data), Variable(label)\n",
    "        optimizer.zero_grad()\n",
    "        output = model(data)\n",
    "        loss = F.nll_loss(output, label)\n",
    "        loss.backward()\n",
    "        optimizer.step()\n",
    "        if batch_idx % 50 == 0:\n",
    "            print('Train Epoch: {} [{}/{} ({:.0f}%)]\\tLoss: {:.6f}'.format(\n",
    "                epoch, batch_idx * len(data), len(train_loader.dataset),\n",
    "                100. * batch_idx / len(train_loader), loss.data[0]))\n",
    "            \n",
    "def test(epoch):\n",
    "    model.eval()\n",
    "    test_loss = 0\n",
    "    correct = 0\n",
    "    for data, label in test_loader:\n",
    "        if (use_cuda):\n",
    "            data, lable = data.cuda(), label.cuda()\n",
    "        data, label = Variable(data, volatile=True), Variable(label)\n",
    "        output = model(data)\n",
    "        test_loss += F.nll_loss(output, label).data[0]\n",
    "        pred = output.data.max(1)[1]\n",
    "        correct += pred.eq(label.data).cpu().sum()\n",
    "        \n",
    "    test_loss = test_loss\n",
    "    test_loss /= len(test_loader) # loss function already averages over batch size\n",
    "    print('\\nTest set: Average loss: {:.4f}, Accuracy: {}/{} ({:.0f}%)\\n'.format(\n",
    "        test_loss, correct, len(test_loader.dataset),\n",
    "        100. * correct / len(test_loader.dataset)))"
   ]
  },
  {
   "cell_type": "code",
   "execution_count": 8,
   "metadata": {},
   "outputs": [
    {
     "name": "stdout",
     "output_type": "stream",
     "text": [
      "Train Epoch: 1 [0/60000 (0%)]\tLoss: 2.282120\n"
     ]
    },
    {
     "name": "stdout",
     "output_type": "stream",
     "text": [
      "Train Epoch: 1 [5000/60000 (8%)]\tLoss: 1.076413\n"
     ]
    },
    {
     "name": "stdout",
     "output_type": "stream",
     "text": [
      "Train Epoch: 1 [10000/60000 (17%)]\tLoss: 0.353708\n"
     ]
    },
    {
     "name": "stdout",
     "output_type": "stream",
     "text": [
      "Train Epoch: 1 [15000/60000 (25%)]\tLoss: 0.456998\n"
     ]
    },
    {
     "name": "stdout",
     "output_type": "stream",
     "text": [
      "Train Epoch: 1 [20000/60000 (33%)]\tLoss: 0.465649\n"
     ]
    },
    {
     "name": "stdout",
     "output_type": "stream",
     "text": [
      "Train Epoch: 1 [25000/60000 (42%)]\tLoss: 0.132934\n"
     ]
    },
    {
     "name": "stdout",
     "output_type": "stream",
     "text": [
      "Train Epoch: 1 [30000/60000 (50%)]\tLoss: 0.378788\n"
     ]
    },
    {
     "name": "stdout",
     "output_type": "stream",
     "text": [
      "Train Epoch: 1 [35000/60000 (58%)]\tLoss: 0.177392\n"
     ]
    },
    {
     "name": "stdout",
     "output_type": "stream",
     "text": [
      "Train Epoch: 1 [40000/60000 (67%)]\tLoss: 0.186215\n"
     ]
    },
    {
     "name": "stdout",
     "output_type": "stream",
     "text": [
      "Train Epoch: 1 [45000/60000 (75%)]\tLoss: 0.148934\n"
     ]
    },
    {
     "name": "stdout",
     "output_type": "stream",
     "text": [
      "Train Epoch: 1 [50000/60000 (83%)]\tLoss: 0.241503\n"
     ]
    },
    {
     "name": "stdout",
     "output_type": "stream",
     "text": [
      "Train Epoch: 1 [55000/60000 (92%)]\tLoss: 0.119649\n"
     ]
    },
    {
     "name": "stdout",
     "output_type": "stream",
     "text": [
      "\nTest set: Average loss: 0.1195, Accuracy: 9634/10000 (96%)\n\n"
     ]
    }
   ],
   "source": [
    "#for epoch in range(1, 10):\n",
    "train(1)\n",
    "test(1)"
   ]
  },
  {
   "cell_type": "code",
   "execution_count": 9,
   "metadata": {},
   "outputs": [
    {
     "name": "stdout",
     "output_type": "stream",
     "text": [
      "Variable containing:\n(0 ,.,.) = \n -0.1470  0.1724  0.2129 -0.0837  0.1885\n -0.0638 -0.0006  0.1741  0.2042  0.0536\n -0.1910  0.0705  0.0155 -0.1089  0.0683\n  0.1090 -0.1169 -0.1627 -0.1711  0.1138\n -0.2234  0.0195 -0.0597 -0.0761 -0.1781\n[torch.FloatTensor of size 1x5x5]\n\n[[[-0.14699253  0.1723911   0.21292394 -0.08366029  0.18851154]\n  [-0.06378265 -0.00061548  0.17408545  0.20421942  0.05361126]\n  [-0.19102345  0.07054869  0.01552966 -0.10892844  0.06830549]\n  [ 0.10896599 -0.11694469 -0.1626578  -0.17106026  0.11381786]\n  [-0.22340022  0.01953809 -0.05969426 -0.07605883 -0.17809737]]]\n"
     ]
    }
   ],
   "source": [
    "import numpy as np\n",
    "params = list(model.parameters())\n",
    "len(params)\n",
    "conv1 = params[0]\n",
    "type(conv1)\n",
    "np_conv1 = conv1.data.numpy()\n",
    "print(conv1[0])\n",
    "print(np_conv1[0])\n",
    "#np_weight = params[0][0].numpy()\n",
    "#print (np_weight)"
   ]
  },
  {
   "cell_type": "code",
   "execution_count": 20,
   "metadata": {},
   "outputs": [],
   "source": [
    "np.save('a', np_conv1)"
   ]
  },
  {
   "cell_type": "code",
   "execution_count": 16,
   "metadata": {},
   "outputs": [
    {
     "name": "stdout",
     "output_type": "stream",
     "text": [
      "[-0.14699253  0.1723911   0.21292394 -0.08366029  0.18851154]\n"
     ]
    }
   ],
   "source": [
    "file = open('weight', 'w')\n",
    "print np_conv1[0][0][0]\n",
    "file.write(np_conv1[0][0][0])\n",
    "file.close()"
   ]
  }
 ],
 "metadata": {
  "kernelspec": {
   "display_name": "Python 2",
   "language": "python",
   "name": "python2"
  },
  "language_info": {
   "codemirror_mode": {
    "name": "ipython",
    "version": 2.0
   },
   "file_extension": ".py",
   "mimetype": "text/x-python",
   "name": "python",
   "nbconvert_exporter": "python",
   "pygments_lexer": "ipython2",
   "version": "2.7.6"
  }
 },
 "nbformat": 4,
 "nbformat_minor": 0
}