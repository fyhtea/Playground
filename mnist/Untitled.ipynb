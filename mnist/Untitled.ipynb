{
 "cells": [
  {
   "cell_type": "code",
   "execution_count": 3,
   "metadata": {
    "collapsed": false
   },
   "outputs": [],
   "source": [
    "from __future__ import print_function\n",
    "import argparse\n",
    "import torch\n",
    "import torch.nn as nn\n",
    "import torch.nn.functional as F\n",
    "import torch.optim as optim\n",
    "from torchvision import datasets,transforms\n",
    "from torch.autograd import Variable\n"
   ]
  },
  {
   "cell_type": "code",
   "execution_count": 7,
   "metadata": {
    "collapsed": false
   },
   "outputs": [],
   "source": [
    "# Prepare Data\n",
    "train_loader = torch.utils.data.DataLoader(\n",
    "    datasets.MNIST('../data', train=True, download=True,\n",
    "                   transform=transforms.Compose([\n",
    "                       transforms.ToTensor(),\n",
    "                       transforms.Normalize((0.1307,), (0.3081,))\n",
    "])),\n",
    "    batch_size=64, shuffle=True)\n",
    "\n",
    "test_loader = torch.utils.data.DataLoader(\n",
    "    datasets.MNIST('../data', train=False, transform=transforms.Compose([\n",
    "                       transforms.ToTensor(),\n",
    "                       transforms.Normalize((0.1307,), (0.3081,))\n",
    "                   ])),\n",
    "    batch_size=64, shuffle=True)"
   ]
  },
  {
   "cell_type": "code",
   "execution_count": 59,
   "metadata": {
    "collapsed": false
   },
   "outputs": [],
   "source": [
    "# LeNet Model\n",
    "class Net(nn.Module):\n",
    "    def __init__(self):\n",
    "        super(Net, self).__init__()\n",
    "        self.conv1 = nn.Conv2d(1, 10, kernel_size=5)\n",
    "        self.conv2 = nn.Conv2d(10, 20, kernel_size=5)\n",
    "        self.conv2_drop = nn.Dropout2d()\n",
    "        self.fc1 = nn.Linear(320, 50)\n",
    "        self.fc2 = nn.Linear(50, 10)\n",
    "\n",
    "    def forward(self, x):\n",
    "        x = F.relu(F.max_pool2d(self.conv1(x), 2))\n",
    "        x = BinaryFunction()(x)\n",
    "        x = F.relu(F.max_pool2d(self.conv2_drop(self.conv2(x)), 2))\n",
    "        x = x.view(-1, 320)\n",
    "        x = F.relu(self.fc1(x))\n",
    "        x = F.dropout(x, training=self.training)\n",
    "        x = self.fc2(x)\n",
    "        return F.log_softmax(x)"
   ]
  },
  {
   "cell_type": "code",
   "execution_count": 60,
   "metadata": {
    "collapsed": false
   },
   "outputs": [
    {
     "data": {
      "text/plain": [
       "Net (\n",
       "  (conv1): Conv2d(1, 10, kernel_size=(5, 5), stride=(1, 1))\n",
       "  (conv2): Conv2d(10, 20, kernel_size=(5, 5), stride=(1, 1))\n",
       "  (conv2_drop): Dropout2d (p=0.5)\n",
       "  (fc1): Linear (320 -> 50)\n",
       "  (fc2): Linear (50 -> 10)\n",
       ")"
      ]
     },
     "execution_count": 60,
     "metadata": {},
     "output_type": "execute_result"
    }
   ],
   "source": [
    "model = Net()\n",
    "model.cuda()\n"
   ]
  },
  {
   "cell_type": "code",
   "execution_count": 61,
   "metadata": {
    "collapsed": true
   },
   "outputs": [],
   "source": [
    "optimizer = optim.SGD(model.parameters(), lr=0.01, momentum=0.5)"
   ]
  },
  {
   "cell_type": "code",
   "execution_count": 62,
   "metadata": {
    "collapsed": false
   },
   "outputs": [],
   "source": [
    "def train(epoch):\n",
    "    model.train()\n",
    "    for batch_idx, (data, target) in enumerate(train_loader):\n",
    "        #if args.cuda:\n",
    "        data, target = data.cuda(), target.cuda()\n",
    "        data, target = Variable(data), Variable(target)\n",
    "        optimizer.zero_grad()\n",
    "        output = model(data)\n",
    "        loss = F.nll_loss(output, target)\n",
    "        loss.backward()\n",
    "        optimizer.step()\n",
    "        if batch_idx % 10 == 0:\n",
    "            print('Train Epoch: {} [{}/{} ({:.0f}%)]\\tLoss: {:.6f}'.format(\n",
    "                epoch, batch_idx * len(data), len(train_loader.dataset),\n",
    "100. * batch_idx / len(train_loader), loss.data[0]))"
   ]
  },
  {
   "cell_type": "code",
   "execution_count": 63,
   "metadata": {
    "collapsed": false
   },
   "outputs": [],
   "source": [
    "def test():\n",
    "    model.eval()\n",
    "    test_loss = 0\n",
    "    correct = 0\n",
    "    for data, target in test_loader:\n",
    "        #if args.cuda:\n",
    "        data, target = data.cuda(), target.cuda()\n",
    "        data, target = Variable(data, volatile=True), Variable(target)\n",
    "        output = model(data)\n",
    "        test_loss += F.nll_loss(output, target, size_average=False).data[0] # sum up batch loss\n",
    "        #pred = output.data.max(1, keepdim=True)[1] # get the index of the max log-probability\n",
    "        pred = torch.max(output.data,1)[1]\n",
    "        correct += pred.eq(target.data.view_as(pred)).cpu().sum()\n",
    "\n",
    "    test_loss /= len(test_loader.dataset)\n",
    "    print('\\nTest set: Average loss: {:.4f}, Accuracy: {}/{} ({:.0f}%)\\n'.format(\n",
    "        test_loss, correct, len(test_loader.dataset),\n",
    "        100. * correct / len(test_loader.dataset)))\n"
   ]
  },
  {
   "cell_type": "code",
   "execution_count": 68,
   "metadata": {
    "collapsed": false
   },
   "outputs": [
    {
     "name": "stdout",
     "output_type": "stream",
     "text": [
      "Train Epoch: 1 [0/60000 (0%)]\tLoss: 2.310760\n",
      "Train Epoch: 1 [640/60000 (1%)]\tLoss: 2.305841\n",
      "Train Epoch: 1 [1280/60000 (2%)]\tLoss: 2.316176\n",
      "Train Epoch: 1 [1920/60000 (3%)]\tLoss: 2.317196\n",
      "Train Epoch: 1 [2560/60000 (4%)]\tLoss: 2.303140\n",
      "Train Epoch: 1 [3200/60000 (5%)]\tLoss: 2.293335\n",
      "Train Epoch: 1 [3840/60000 (6%)]\tLoss: 2.309552\n",
      "Train Epoch: 1 [4480/60000 (7%)]\tLoss: 2.303401\n",
      "Train Epoch: 1 [5120/60000 (9%)]\tLoss: 2.301362\n",
      "Train Epoch: 1 [5760/60000 (10%)]\tLoss: 2.308873\n",
      "Train Epoch: 1 [6400/60000 (11%)]\tLoss: 2.304788\n",
      "Train Epoch: 1 [7040/60000 (12%)]\tLoss: 2.292967\n",
      "Train Epoch: 1 [7680/60000 (13%)]\tLoss: 2.300804\n",
      "Train Epoch: 1 [8320/60000 (14%)]\tLoss: 2.302018\n",
      "Train Epoch: 1 [8960/60000 (15%)]\tLoss: 2.301513\n",
      "Train Epoch: 1 [9600/60000 (16%)]\tLoss: 2.299364\n",
      "Train Epoch: 1 [10240/60000 (17%)]\tLoss: 2.298456\n",
      "Train Epoch: 1 [10880/60000 (18%)]\tLoss: 2.303680\n",
      "Train Epoch: 1 [11520/60000 (19%)]\tLoss: 2.297683\n",
      "Train Epoch: 1 [12160/60000 (20%)]\tLoss: 2.307135\n",
      "Train Epoch: 1 [12800/60000 (21%)]\tLoss: 2.306751\n",
      "Train Epoch: 1 [13440/60000 (22%)]\tLoss: 2.302372\n",
      "Train Epoch: 1 [14080/60000 (23%)]\tLoss: 2.302585\n",
      "Train Epoch: 1 [14720/60000 (25%)]\tLoss: 2.300017\n",
      "Train Epoch: 1 [15360/60000 (26%)]\tLoss: 2.294509\n",
      "Train Epoch: 1 [16000/60000 (27%)]\tLoss: 2.307577\n",
      "Train Epoch: 1 [16640/60000 (28%)]\tLoss: 2.315735\n",
      "Train Epoch: 1 [17280/60000 (29%)]\tLoss: 2.295258\n",
      "Train Epoch: 1 [17920/60000 (30%)]\tLoss: 2.298838\n",
      "Train Epoch: 1 [18560/60000 (31%)]\tLoss: 2.309127\n",
      "Train Epoch: 1 [19200/60000 (32%)]\tLoss: 2.304528\n",
      "Train Epoch: 1 [19840/60000 (33%)]\tLoss: 2.313722\n",
      "Train Epoch: 1 [20480/60000 (34%)]\tLoss: 2.296123\n",
      "Train Epoch: 1 [21120/60000 (35%)]\tLoss: 2.304523\n",
      "Train Epoch: 1 [21760/60000 (36%)]\tLoss: 2.305305\n",
      "Train Epoch: 1 [22400/60000 (37%)]\tLoss: 2.310899\n",
      "Train Epoch: 1 [23040/60000 (38%)]\tLoss: 2.308278\n",
      "Train Epoch: 1 [23680/60000 (39%)]\tLoss: 2.303807\n",
      "Train Epoch: 1 [24320/60000 (41%)]\tLoss: 2.292052\n",
      "Train Epoch: 1 [24960/60000 (42%)]\tLoss: 2.304526\n",
      "Train Epoch: 1 [25600/60000 (43%)]\tLoss: 2.299418\n",
      "Train Epoch: 1 [26240/60000 (44%)]\tLoss: 2.297310\n",
      "Train Epoch: 1 [26880/60000 (45%)]\tLoss: 2.293512\n",
      "Train Epoch: 1 [27520/60000 (46%)]\tLoss: 2.309815\n",
      "Train Epoch: 1 [28160/60000 (47%)]\tLoss: 2.301366\n",
      "Train Epoch: 1 [28800/60000 (48%)]\tLoss: 2.294168\n",
      "Train Epoch: 1 [29440/60000 (49%)]\tLoss: 2.298406\n",
      "Train Epoch: 1 [30080/60000 (50%)]\tLoss: 2.310952\n",
      "Train Epoch: 1 [30720/60000 (51%)]\tLoss: 2.316438\n",
      "Train Epoch: 1 [31360/60000 (52%)]\tLoss: 2.302681\n",
      "Train Epoch: 1 [32000/60000 (53%)]\tLoss: 2.302620\n",
      "Train Epoch: 1 [32640/60000 (54%)]\tLoss: 2.304925\n",
      "Train Epoch: 1 [33280/60000 (55%)]\tLoss: 2.302289\n",
      "Train Epoch: 1 [33920/60000 (57%)]\tLoss: 2.299092\n",
      "Train Epoch: 1 [34560/60000 (58%)]\tLoss: 2.312447\n",
      "Train Epoch: 1 [35200/60000 (59%)]\tLoss: 2.308815\n",
      "Train Epoch: 1 [35840/60000 (60%)]\tLoss: 2.310072\n",
      "Train Epoch: 1 [36480/60000 (61%)]\tLoss: 2.295795\n",
      "Train Epoch: 1 [37120/60000 (62%)]\tLoss: 2.305239\n",
      "Train Epoch: 1 [37760/60000 (63%)]\tLoss: 2.311436\n",
      "Train Epoch: 1 [38400/60000 (64%)]\tLoss: 2.287647\n",
      "Train Epoch: 1 [39040/60000 (65%)]\tLoss: 2.293267\n",
      "Train Epoch: 1 [39680/60000 (66%)]\tLoss: 2.303659\n",
      "Train Epoch: 1 [40320/60000 (67%)]\tLoss: 2.311738\n",
      "Train Epoch: 1 [40960/60000 (68%)]\tLoss: 2.297100\n",
      "Train Epoch: 1 [41600/60000 (69%)]\tLoss: 2.306358\n",
      "Train Epoch: 1 [42240/60000 (70%)]\tLoss: 2.302998\n",
      "Train Epoch: 1 [42880/60000 (71%)]\tLoss: 2.295719\n",
      "Train Epoch: 1 [43520/60000 (72%)]\tLoss: 2.302988\n",
      "Train Epoch: 1 [44160/60000 (74%)]\tLoss: 2.292069\n",
      "Train Epoch: 1 [44800/60000 (75%)]\tLoss: 2.296374\n",
      "Train Epoch: 1 [45440/60000 (76%)]\tLoss: 2.308482\n",
      "Train Epoch: 1 [46080/60000 (77%)]\tLoss: 2.302859\n",
      "Train Epoch: 1 [46720/60000 (78%)]\tLoss: 2.296227\n",
      "Train Epoch: 1 [47360/60000 (79%)]\tLoss: 2.306593\n",
      "Train Epoch: 1 [48000/60000 (80%)]\tLoss: 2.295767\n",
      "Train Epoch: 1 [48640/60000 (81%)]\tLoss: 2.304580\n",
      "Train Epoch: 1 [49280/60000 (82%)]\tLoss: 2.295428\n",
      "Train Epoch: 1 [49920/60000 (83%)]\tLoss: 2.306472\n",
      "Train Epoch: 1 [50560/60000 (84%)]\tLoss: 2.303558\n",
      "Train Epoch: 1 [51200/60000 (85%)]\tLoss: 2.291526\n",
      "Train Epoch: 1 [51840/60000 (86%)]\tLoss: 2.295240\n",
      "Train Epoch: 1 [52480/60000 (87%)]\tLoss: 2.303899\n",
      "Train Epoch: 1 [53120/60000 (88%)]\tLoss: 2.295515\n",
      "Train Epoch: 1 [53760/60000 (90%)]\tLoss: 2.308329\n",
      "Train Epoch: 1 [54400/60000 (91%)]\tLoss: 2.301122\n",
      "Train Epoch: 1 [55040/60000 (92%)]\tLoss: 2.305343\n",
      "Train Epoch: 1 [55680/60000 (93%)]\tLoss: 2.298222\n",
      "Train Epoch: 1 [56320/60000 (94%)]\tLoss: 2.305377\n",
      "Train Epoch: 1 [56960/60000 (95%)]\tLoss: 2.301873\n",
      "Train Epoch: 1 [57600/60000 (96%)]\tLoss: 2.309473\n",
      "Train Epoch: 1 [58240/60000 (97%)]\tLoss: 2.300309\n",
      "Train Epoch: 1 [58880/60000 (98%)]\tLoss: 2.299114\n",
      "Train Epoch: 1 [59520/60000 (99%)]\tLoss: 2.304342\n",
      "\n",
      "Test set: Average loss: 2.3010, Accuracy: 1135/10000 (11%)\n",
      "\n"
     ]
    }
   ],
   "source": [
    "\n",
    "train(1)\n",
    "test()"
   ]
  },
  {
   "cell_type": "code",
   "execution_count": 3,
   "metadata": {
    "collapsed": false
   },
   "outputs": [
    {
     "ename": "AttributeError",
     "evalue": "type object 'BinaryFunction' has no attribute 'apply'",
     "output_type": "error",
     "traceback": [
      "\u001b[1;31m---------------------------------------------------------------------------\u001b[0m",
      "\u001b[1;31mAttributeError\u001b[0m                            Traceback (most recent call last)",
      "\u001b[1;32m<ipython-input-3-9a42435754e0>\u001b[0m in \u001b[0;36m<module>\u001b[1;34m()\u001b[0m\n\u001b[0;32m     16\u001b[0m \u001b[1;33m\u001b[0m\u001b[0m\n\u001b[0;32m     17\u001b[0m \u001b[1;31m# aliases\u001b[0m\u001b[1;33m\u001b[0m\u001b[1;33m\u001b[0m\u001b[0m\n\u001b[1;32m---> 18\u001b[1;33m \u001b[0mbinarise\u001b[0m \u001b[1;33m=\u001b[0m \u001b[0mBinaryFunction\u001b[0m\u001b[1;33m.\u001b[0m\u001b[0mapply\u001b[0m\u001b[1;33m(\u001b[0m\u001b[1;33m)\u001b[0m\u001b[1;33m\u001b[0m\u001b[0m\n\u001b[0m",
      "\u001b[1;31mAttributeError\u001b[0m: type object 'BinaryFunction' has no attribute 'apply'"
     ]
    }
   ],
   "source": [
    "from torch.autograd import Function\n",
    "\n",
    "class BinaryFunction(Function):\n",
    "    @staticmethod\n",
    "    def forward(ctx, input):\n",
    "        output=input.new(input.size())\n",
    "        output[input>=0]=1\n",
    "        output[input<0]=-1\n",
    "        return output\n",
    "    \n",
    "    @staticmethod\n",
    "    def backward(ctx, grad_output):\n",
    "        grad_input=grad_output.clone()\n",
    "\n",
    "        return grad_input\n",
    "\n",
    "# aliases\n",
    "binarise = BinaryFunction.apply\n"
   ]
  },
  {
   "cell_type": "code",
   "execution_count": 49,
   "metadata": {
    "collapsed": false,
    "scrolled": true
   },
   "outputs": [],
   "source": [
    "input = Variable(torch.randn(20,20).double(), requires_grad=True)"
   ]
  },
  {
   "cell_type": "code",
   "execution_count": 50,
   "metadata": {
    "collapsed": false
   },
   "outputs": [],
   "source": [
    "output = BanaryFunction(input)"
   ]
  },
  {
   "cell_type": "code",
   "execution_count": 51,
   "metadata": {
    "collapsed": false
   },
   "outputs": [],
   "source": [
    "out=output.forward(input)"
   ]
  },
  {
   "cell_type": "code",
   "execution_count": 52,
   "metadata": {
    "collapsed": true
   },
   "outputs": [
    {
     "data": {
      "text/plain": [
       "\n",
       "\n",
       "Columns 0 to 12 \n",
       "    0     0     0     0     0     0     0     0     0     0     0     0     0\n",
       "    0     0     0     0     0     0     0     0     0     0     0     0     0\n",
       "    0     0     0     0     0     0     0     0     0     0     0     0     0\n",
       "    0     0     0     0     0     0     0     0     0     0     0     0     0\n",
       "    0     0     0     0     0     0     0     0     0     0     0     0     0\n",
       "    0     0     0     0     0     0     0     0     0     0     0     0     0\n",
       "    0     0     0     0     0     0     0     0     0     0     0     0     0\n",
       "    0     0     0     0     0     0     0     0     0     0     0     0     0\n",
       "    0     0     0     0     0     0     0     0     0     0     0     0     0\n",
       "    0     0     0     0     0     0     0     0     0     0     0     0     0\n",
       "    0     0     0     0     0     0     0     0     0     0     0     0     0\n",
       "    0     0     0     0     0     0     0     0     0     0     0     0     0\n",
       "    0     0     0     0     0     0     0     0     0     0     0     0     0\n",
       "    0     0     0     0     0     0     0     0     0     0     0     0     0\n",
       "    0     0     0     0     0     0     0     0     0     0     0     0     0\n",
       "    0     0     0     0     0     0     0     0     0     0     0     0     0\n",
       "    0     0     0     0     0     0     0     0     0     0     0     0     0\n",
       "    0     0     0     0     0     0     0     0     0     0     0     0     0\n",
       "    0     0     0     0     0     0     0     0     0     0     0     0     0\n",
       "    0     0     0     0     0     0     0     0     0     0     0     0     0\n",
       "\n",
       "Columns 13 to 19 \n",
       "    0     0     0     0     0     0     0\n",
       "    0     0     0     0     0     0     0\n",
       "    0     0     0     0     0     0     0\n",
       "    0     0     0     0     0     0     0\n",
       "    0     0     0     0     0     0     0\n",
       "    0     0     0     0     0     0     0\n",
       "    0     0     0     0     0     0     0\n",
       "    0     0     0     0     0     0     0\n",
       "    0     0     0     0     0     0     0\n",
       "    0     0     0     0     0     0     0\n",
       "    0     0     0     0     0     0     0\n",
       "    0     0     0     0     0     0     0\n",
       "    0     0     0     0     0     0     0\n",
       "    0     0     0     0     0     0     0\n",
       "    0     0     0     0     0     0     0\n",
       "    0     0     0     0     0     0     0\n",
       "    0     0     0     0     0     0     0\n",
       "    0     0     0     0     0     0     0\n",
       "    0     0     0     0     0     0     0\n",
       "    0     0     0     0     0     0     0\n",
       "[torch.DoubleTensor of size 20x20]"
      ]
     },
     "execution_count": 52,
     "metadata": {},
     "output_type": "execute_result"
    }
   ],
   "source": [
    "out.data"
   ]
  },
  {
   "cell_type": "code",
   "execution_count": 1,
   "metadata": {
    "collapsed": false
   },
   "outputs": [
    {
     "ename": "AttributeError",
     "evalue": "type object 'BinarizeFunc' has no attribute 'apply'",
     "output_type": "error",
     "traceback": [
      "\u001b[1;31m---------------------------------------------------------------------------\u001b[0m",
      "\u001b[1;31mAttributeError\u001b[0m                            Traceback (most recent call last)",
      "\u001b[1;32m<ipython-input-1-bb13f4dd3aaf>\u001b[0m in \u001b[0;36m<module>\u001b[1;34m()\u001b[0m\n\u001b[1;32m----> 1\u001b[1;33m \u001b[1;32mfrom\u001b[0m \u001b[0mfunctions\u001b[0m \u001b[1;32mimport\u001b[0m \u001b[1;33m*\u001b[0m\u001b[1;33m\u001b[0m\u001b[0m\n\u001b[0m",
      "\u001b[1;32m/home/fyh/Workspace/Playground/mnist/functions.py\u001b[0m in \u001b[0;36m<module>\u001b[1;34m()\u001b[0m\n\u001b[0;32m     18\u001b[0m \u001b[1;33m\u001b[0m\u001b[0m\n\u001b[0;32m     19\u001b[0m \u001b[1;31m# aliases\u001b[0m\u001b[1;33m\u001b[0m\u001b[1;33m\u001b[0m\u001b[0m\n\u001b[1;32m---> 20\u001b[1;33m \u001b[0mbinarize\u001b[0m \u001b[1;33m=\u001b[0m \u001b[0mBinarizeFunc\u001b[0m\u001b[1;33m.\u001b[0m\u001b[0mapply\u001b[0m\u001b[1;33m\u001b[0m\u001b[0m\n\u001b[0m",
      "\u001b[1;31mAttributeError\u001b[0m: type object 'BinarizeFunc' has no attribute 'apply'"
     ]
    }
   ],
   "source": [
    "from functions import *"
   ]
  },
  {
   "cell_type": "code",
   "execution_count": null,
   "metadata": {
    "collapsed": true
   },
   "outputs": [],
   "source": []
  }
 ],
 "metadata": {
  "kernelspec": {
   "display_name": "Python 2",
   "language": "python",
   "name": "python2"
  },
  "language_info": {
   "codemirror_mode": {
    "name": "ipython",
    "version": 2
   },
   "file_extension": ".py",
   "mimetype": "text/x-python",
   "name": "python",
   "nbconvert_exporter": "python",
   "pygments_lexer": "ipython2",
   "version": "2.7.13"
  }
 },
 "nbformat": 4,
 "nbformat_minor": 0
}
